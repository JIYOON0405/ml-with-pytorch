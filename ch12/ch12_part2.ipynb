{
  "cells": [
    {
      "cell_type": "markdown",
      "metadata": {
        "id": "BhhXWyujrZ0s"
      },
      "source": [
        "# 머신 러닝 교과서 - 파이토치편"
      ]
    },
    {
      "cell_type": "markdown",
      "metadata": {
        "id": "l7Gupa9ZrZ0v"
      },
      "source": [
        "<table align=\"left\"><tr><td>\n",
        "<a href=\"https://colab.research.google.com/github/rickiepark/ml-with-pytorch/blob/main/ch12/ch12_part2.ipynb\" target=\"_parent\"><img src=\"https://colab.research.google.com/assets/colab-badge.svg\" alt=\"코랩에서 실행하기\"/></a>\n",
        "</td></tr></table>"
      ]
    },
    {
      "cell_type": "markdown",
      "metadata": {
        "id": "2ck6vu5NrZ0w"
      },
      "source": [
        "## 패키지 버전 체크"
      ]
    },
    {
      "cell_type": "markdown",
      "metadata": {
        "id": "iIiXj5jcrZ0w"
      },
      "source": [
        "check_packages.py 스크립트에서 로드하기 위해 폴더를 추가합니다:"
      ]
    },
    {
      "cell_type": "code",
      "execution_count": 1,
      "metadata": {
        "id": "yj3xhiD7rZ0w",
        "outputId": "39f59669-b8f1-4e5f-ed9b-85db35269c98",
        "colab": {
          "base_uri": "https://localhost:8080/"
        }
      },
      "outputs": [
        {
          "output_type": "stream",
          "name": "stdout",
          "text": [
            "--2023-08-05 03:20:25--  https://raw.githubusercontent.com/rickiepark/ml-with-pytorch/main/python_environment_check.py\n",
            "Resolving raw.githubusercontent.com (raw.githubusercontent.com)... 185.199.108.133, 185.199.109.133, 185.199.110.133, ...\n",
            "Connecting to raw.githubusercontent.com (raw.githubusercontent.com)|185.199.108.133|:443... connected.\n",
            "HTTP request sent, awaiting response... 200 OK\n",
            "Length: 1629 (1.6K) [text/plain]\n",
            "Saving to: ‘python_environment_check.py’\n",
            "\n",
            "python_environment_ 100%[===================>]   1.59K  --.-KB/s    in 0s      \n",
            "\n",
            "2023-08-05 03:20:26 (42.9 MB/s) - ‘python_environment_check.py’ saved [1629/1629]\n",
            "\n"
          ]
        }
      ],
      "source": [
        "import sys\n",
        "\n",
        "# 코랩의 경우 깃허브 저장소로부터 python_environment_check.py를 다운로드 합니다.\n",
        "if 'google.colab' in sys.modules:\n",
        "    !wget https://raw.githubusercontent.com/rickiepark/ml-with-pytorch/main/python_environment_check.py\n",
        "else:\n",
        "    sys.path.insert(0, '..')"
      ]
    },
    {
      "cell_type": "markdown",
      "metadata": {
        "id": "-xPl5TtQrZ0y"
      },
      "source": [
        "권장 패키지 버전을 확인하세요:"
      ]
    },
    {
      "cell_type": "code",
      "execution_count": 2,
      "metadata": {
        "id": "VQh-ooMOrZ0y",
        "outputId": "5b42ddc5-4fca-45c6-9a02-34bc8ce19bcb",
        "colab": {
          "base_uri": "https://localhost:8080/"
        }
      },
      "outputs": [
        {
          "output_type": "stream",
          "name": "stdout",
          "text": [
            "[OK] Your Python version is 3.10.12 (main, Jun 11 2023, 05:26:28) [GCC 11.4.0]\n",
            "[OK] numpy 1.22.4\n",
            "[OK] scipy 1.10.1\n",
            "[OK] sklearn 1.2.2\n",
            "[OK] matplotlib 3.7.1\n",
            "[OK] torch 2.0.1+cu118\n"
          ]
        }
      ],
      "source": [
        "from python_environment_check import check_packages\n",
        "\n",
        "\n",
        "d = {\n",
        "    'numpy': '1.21.2',\n",
        "    'scipy': '1.7.0',\n",
        "    'sklearn': '1.0.0',\n",
        "    'matplotlib': '3.4.3',\n",
        "    'torch': '1.9.0',\n",
        "}\n",
        "check_packages(d)"
      ]
    },
    {
      "cell_type": "markdown",
      "metadata": {
        "id": "L7vHAEVQrZ0z"
      },
      "source": [
        "# 12장 - 파이토치를 사용한 신경망 훈련 (파트 2/2)"
      ]
    },
    {
      "cell_type": "markdown",
      "metadata": {
        "id": "QxT1Xh1hrZ03"
      },
      "source": [
        "- 파이토치로 신경망 모델 만들기\n",
        "  - 파이토치 신경망 모듈 (torch.nn)\n",
        "  - 선형 회귀 모델 만들기\n",
        "  - torch.nn과 torch.optim 모듈로 모델 훈련하기\n",
        "  - 붓꽃 데이터셋을 분류하는 다층 퍼셉트론 만들기\n",
        "  - 테스트 데이터셋에서 모델 평가하기\n",
        "  - 훈련되 모델 저장하고 로드하기\n",
        "- 다층 신경망의 활성화 함수 선택\n",
        "  - 로지스틱 함수 요약\n",
        "  - 소프트맥스 함수를 사용한 다중 클래스 확률 예측\n",
        "  - 하이퍼볼릭 탄젠트로 출력 범위 넓히기\n",
        "  - 렐루 활성화 함수\n",
        "- 요약"
      ]
    },
    {
      "cell_type": "code",
      "execution_count": 3,
      "metadata": {
        "id": "06Bu3yRqrZ03"
      },
      "outputs": [],
      "source": [
        "from IPython.display import Image as IPythonImage\n",
        "%matplotlib inline"
      ]
    },
    {
      "cell_type": "markdown",
      "metadata": {
        "id": "6mG7uy2qrZ03"
      },
      "source": [
        "## 파이토치로 신경망 모델 만들기"
      ]
    },
    {
      "cell_type": "markdown",
      "metadata": {
        "id": "OUX624bArZ04"
      },
      "source": [
        "### 파이토치 신경망 모듈 (torch.nn)"
      ]
    },
    {
      "cell_type": "markdown",
      "metadata": {
        "id": "uWHMYsVCrZ04"
      },
      "source": [
        "### 선형 회귀 모델 만들기"
      ]
    },
    {
      "cell_type": "code",
      "execution_count": 4,
      "metadata": {
        "id": "TnZ9O7obrZ04"
      },
      "outputs": [],
      "source": [
        "import torch\n",
        "import numpy as np\n",
        "import matplotlib.pyplot as plt"
      ]
    },
    {
      "cell_type": "code",
      "execution_count": 5,
      "metadata": {
        "id": "s9xtjxXRrZ04",
        "outputId": "7f8d3f4a-4109-4d2c-a30f-0735c3c01841",
        "colab": {
          "base_uri": "https://localhost:8080/",
          "height": 449
        }
      },
      "outputs": [
        {
          "output_type": "display_data",
          "data": {
            "text/plain": [
              "<Figure size 640x480 with 1 Axes>"
            ],
            "image/png": "[encoded data removed]"
          },
          "metadata": {}
        }
      ],
      "source": [
        "X_train = np.arange(10, dtype='float32').reshape((10, 1))\n",
        "y_train = np.array([1.0, 1.3, 3.1, 2.0, 5.0, 6.3, 6.6,\n",
        "                    7.4, 8.0, 9.0], dtype='float32')\n",
        "\n",
        "plt.plot(X_train, y_train, 'o', markersize=10)\n",
        "plt.xlabel('x')\n",
        "plt.ylabel('y')\n",
        "\n",
        "#plt.savefig('figures/12_07.pdf')\n",
        "plt.show()"
      ]
    },
    {
      "cell_type": "code",
      "execution_count": 6,
      "metadata": {
        "id": "JNJD85xlrZ04"
      },
      "outputs": [],
      "source": [
        "from torch.utils.data import TensorDataset\n",
        "from torch.utils.data import DataLoader\n",
        "\n",
        "X_train_norm = (X_train - np.mean(X_train)) / np.std(X_train)\n",
        "X_train_norm = torch.from_numpy(X_train_norm)\n",
        "\n",
        "# 일부 컴퓨터에서는 .float()로 명시적으로 타입을 변환해야 합니다.\n",
        "y_train = torch.from_numpy(y_train).float()\n",
        "\n",
        "train_ds = TensorDataset(X_train_norm, y_train)\n",
        "\n",
        "batch_size = 1\n",
        "train_dl = DataLoader(train_ds, batch_size, shuffle=True)"
      ]
    },
    {
      "cell_type": "code",
      "execution_count": 7,
      "metadata": {
        "id": "tdXRQPPQrZ04",
        "outputId": "bae3ebe0-1822-4780-c574-ad44cb8ab444",
        "colab": {
          "base_uri": "https://localhost:8080/"
        }
      },
      "outputs": [
        {
          "output_type": "stream",
          "name": "stdout",
          "text": [
            "에포크 0  손실 45.0782\n",
            "에포크 10  손실 26.4366\n",
            "에포크 20  손실 1.5918\n",
            "에포크 30  손실 14.1307\n",
            "에포크 40  손실 11.6038\n",
            "에포크 50  손실 6.3084\n",
            "에포크 60  손실 0.6349\n",
            "에포크 70  손실 3.1374\n",
            "에포크 80  손실 1.9999\n",
            "에포크 90  손실 0.3133\n",
            "에포크 100  손실 0.7653\n",
            "에포크 110  손실 1.0039\n",
            "에포크 120  손실 0.0235\n",
            "에포크 130  손실 0.5176\n",
            "에포크 140  손실 0.0759\n",
            "에포크 150  손실 1.8789\n",
            "에포크 160  손실 0.0008\n",
            "에포크 170  손실 0.0866\n",
            "에포크 180  손실 0.0646\n",
            "에포크 190  손실 0.0011\n"
          ]
        }
      ],
      "source": [
        "torch.manual_seed(1)\n",
        "weight = torch.randn(1)\n",
        "weight.requires_grad_()\n",
        "bias = torch.zeros(1, requires_grad=True)\n",
        "\n",
        "def loss_fn(input, target):\n",
        "    return (input-target).pow(2).mean()\n",
        "\n",
        "def model(xb):\n",
        "    return xb @ weight + bias\n",
        "\n",
        "learning_rate = 0.001\n",
        "num_epochs = 200\n",
        "log_epochs = 10\n",
        "\n",
        "for epoch in range(num_epochs):\n",
        "    for x_batch, y_batch in train_dl:\n",
        "        pred = model(x_batch)\n",
        "        loss = loss_fn(pred, y_batch)\n",
        "        loss.backward()\n",
        "\n",
        "        with torch.no_grad():\n",
        "            weight -= weight.grad * learning_rate\n",
        "            bias -= bias.grad * learning_rate\n",
        "            weight.grad.zero_()\n",
        "            bias.grad.zero_()\n",
        "\n",
        "    if epoch % log_epochs==0:\n",
        "        print(f'에포크 {epoch}  손실 {loss.item():.4f}')"
      ]
    },
    {
      "cell_type": "code",
      "execution_count": 8,
      "metadata": {
        "id": "FvFUW2IPrZ05",
        "outputId": "a837fb59-7697-4b18-abe5-7e923a2065ee",
        "colab": {
          "base_uri": "https://localhost:8080/",
          "height": 495
        }
      },
      "outputs": [
        {
          "output_type": "stream",
          "name": "stdout",
          "text": [
            "최종 파라미터: 2.6696107387542725 4.879678249359131\n"
          ]
        },
        {
          "output_type": "display_data",
          "data": {
            "text/plain": [
              "<Figure size 1300x500 with 1 Axes>"
            ],
            "image/png": "[encoded data removed]"
          },
          "metadata": {}
        }
      ],
      "source": [
        "print('최종 파라미터:', weight.item(), bias.item())\n",
        "\n",
        "X_test = np.linspace(0, 9, num=100, dtype='float32').reshape(-1, 1)\n",
        "X_test_norm = (X_test - np.mean(X_train)) / np.std(X_train)\n",
        "X_test_norm = torch.from_numpy(X_test_norm)\n",
        "y_pred = model(X_test_norm).detach()  # 계산 그래프에서 텐서를 분리합니다.\n",
        "\n",
        "\n",
        "fig = plt.figure(figsize=(13, 5))\n",
        "ax = fig.add_subplot(1, 2, 1)\n",
        "plt.plot(X_train_norm, y_train, 'o', markersize=10)\n",
        "plt.plot(X_test_norm, y_pred, '--', lw=3)\n",
        "plt.legend(['Training examples', 'Linear Reg.'], fontsize=15)\n",
        "ax.set_xlabel('x', size=15)\n",
        "ax.set_ylabel('y', size=15)\n",
        "ax.tick_params(axis='both', which='major', labelsize=15)\n",
        "\n",
        "#plt.savefig('figures/12_08.pdf')\n",
        "\n",
        "plt.show()"
      ]
    },
    {
      "cell_type": "markdown",
      "metadata": {
        "id": "vY5GQblfrZ05"
      },
      "source": [
        "### torch.nn과 torch.optim 모듈로 모델 훈련하기"
      ]
    },
    {
      "cell_type": "code",
      "execution_count": 9,
      "metadata": {
        "id": "QJbyA5EdrZ05",
        "outputId": "b11b7ccc-dc7e-4ed5-a936-973ed1d71e38",
        "colab": {
          "base_uri": "https://localhost:8080/"
        }
      },
      "outputs": [
        {
          "output_type": "stream",
          "name": "stdout",
          "text": [
            "에포크 0  손실 24.6684\n",
            "에포크 10  손실 29.1377\n",
            "에포크 20  손실 20.9207\n",
            "에포크 30  손실 0.1257\n",
            "에포크 40  손실 12.4922\n",
            "에포크 50  손실 1.7845\n",
            "에포크 60  손실 7.6425\n",
            "에포크 70  손실 2.5606\n",
            "에포크 80  손실 0.0157\n",
            "에포크 90  손실 0.7548\n",
            "에포크 100  손실 0.8412\n",
            "에포크 110  손실 0.4923\n",
            "에포크 120  손실 0.0823\n",
            "에포크 130  손실 0.0794\n",
            "에포크 140  손실 0.0891\n",
            "에포크 150  손실 0.0973\n",
            "에포크 160  손실 0.1043\n",
            "에포크 170  손실 0.1103\n",
            "에포크 180  손실 0.0009\n",
            "에포크 190  손실 0.0764\n"
          ]
        }
      ],
      "source": [
        "import torch.nn as nn\n",
        "\n",
        "input_size = 1\n",
        "output_size = 1\n",
        "model = nn.Linear(input_size, output_size)\n",
        "\n",
        "loss_fn = nn.MSELoss(reduction='mean')\n",
        "\n",
        "optimizer = torch.optim.SGD(model.parameters(), lr=learning_rate)\n",
        "\n",
        "for epoch in range(num_epochs):\n",
        "    for x_batch, y_batch in train_dl:\n",
        "        # 1. 예측을 생성합니다.\n",
        "        pred = model(x_batch)[:, 0]\n",
        "\n",
        "        # 2. 손실을 계산합니다.\n",
        "        loss = loss_fn(pred, y_batch)\n",
        "\n",
        "        # 3. 그레이디언트를 계산합니다.\n",
        "        loss.backward()\n",
        "\n",
        "        # 4. 그레이디언트를 사용해 파라미터를 업데이트합니다.\n",
        "        optimizer.step()\n",
        "\n",
        "        # 5. 그레이디언트를 0으로 초기화합니다.\n",
        "        optimizer.zero_grad()\n",
        "\n",
        "    if epoch % log_epochs==0:\n",
        "        print(f'에포크 {epoch}  손실 {loss.item():.4f}')"
      ]
    },
    {
      "cell_type": "code",
      "execution_count": 10,
      "metadata": {
        "id": "qyuOykXerZ05",
        "outputId": "1f92ce18-12bc-494f-d44a-079b616393bb",
        "colab": {
          "base_uri": "https://localhost:8080/",
          "height": 495
        }
      },
      "outputs": [
        {
          "output_type": "stream",
          "name": "stdout",
          "text": [
            "최종 파라미터: 2.6496422290802 4.87706995010376\n"
          ]
        },
        {
          "output_type": "display_data",
          "data": {
            "text/plain": [
              "<Figure size 1300x500 with 1 Axes>"
            ],
            "image/png": "[encoded data removed]"
          },
          "metadata": {}
        }
      ],
      "source": [
        "print('최종 파라미터:', model.weight.item(), model.bias.item())\n",
        "\n",
        "X_test = np.linspace(0, 9, num=100, dtype='float32').reshape(-1, 1)\n",
        "X_test_norm = (X_test - np.mean(X_train)) / np.std(X_train)\n",
        "X_test_norm = torch.from_numpy(X_test_norm)\n",
        "y_pred = model(X_test_norm).detach()\n",
        "\n",
        "\n",
        "fig = plt.figure(figsize=(13, 5))\n",
        "ax = fig.add_subplot(1, 2, 1)\n",
        "plt.plot(X_train_norm, y_train, 'o', markersize=10)\n",
        "plt.plot(X_test_norm, y_pred, '--', lw=3)\n",
        "plt.legend(['Training examples', 'Linear reg.'], fontsize=15)\n",
        "ax.set_xlabel('x', size=15)\n",
        "ax.set_ylabel('y', size=15)\n",
        "ax.tick_params(axis='both', which='major', labelsize=15)\n",
        "\n",
        "#plt.savefig('ch12-linreg-2.pdf')\n",
        "\n",
        "plt.show()\n"
      ]
    },
    {
      "cell_type": "markdown",
      "metadata": {
        "id": "w9BZg6iWrZ06"
      },
      "source": [
        "## 붓꽃 데이터셋을 분류하는 다층 퍼셉트론 만들기"
      ]
    },
    {
      "cell_type": "code",
      "execution_count": 11,
      "metadata": {
        "id": "cijH-mewrZ06"
      },
      "outputs": [],
      "source": [
        "from sklearn.datasets import load_iris\n",
        "from sklearn.model_selection import train_test_split\n",
        "\n",
        "iris = load_iris()\n",
        "X = iris['data']\n",
        "y = iris['target']\n",
        "\n",
        "X_train, X_test, y_train, y_test = train_test_split(\n",
        "    X, y, test_size=1./3, random_state=1)"
      ]
    },
    {
      "cell_type": "code",
      "execution_count": 12,
      "metadata": {
        "id": "u5eBqOGJrZ06"
      },
      "outputs": [],
      "source": [
        "from torch.utils.data import TensorDataset\n",
        "from torch.utils.data import DataLoader\n",
        "\n",
        "X_train_norm = (X_train - np.mean(X_train)) / np.std(X_train)\n",
        "X_train_norm = torch.from_numpy(X_train_norm).float()\n",
        "y_train = torch.from_numpy(y_train)\n",
        "\n",
        "train_ds = TensorDataset(X_train_norm, y_train)\n",
        "\n",
        "torch.manual_seed(1)\n",
        "batch_size = 2\n",
        "train_dl = DataLoader(train_ds, batch_size, shuffle=True)"
      ]
    },
    {
      "cell_type": "code",
      "execution_count": 13,
      "metadata": {
        "id": "cy86EJiurZ06"
      },
      "outputs": [],
      "source": [
        "class Model(nn.Module):\n",
        "    def __init__(self, input_size, hidden_size, output_size):\n",
        "        super().__init__()\n",
        "        self.layer1 = nn.Linear(input_size, hidden_size)\n",
        "        self.layer2 = nn.Linear(hidden_size, output_size)\n",
        "\n",
        "    def forward(self, x):\n",
        "        x = self.layer1(x)\n",
        "        x = nn.Sigmoid()(x)\n",
        "        x = self.layer2(x)\n",
        "        x = nn.Softmax(dim=1)(x)\n",
        "        return x\n",
        "\n",
        "input_size = X_train_norm.shape[1]\n",
        "hidden_size = 16\n",
        "output_size = 3\n",
        "\n",
        "model = Model(input_size, hidden_size, output_size)\n",
        "\n",
        "learning_rate = 0.001\n",
        "\n",
        "loss_fn = nn.CrossEntropyLoss()\n",
        "\n",
        "optimizer = torch.optim.Adam(model.parameters(), lr=learning_rate)"
      ]
    },
    {
      "cell_type": "code",
      "execution_count": 14,
      "metadata": {
        "id": "8pYSFMklrZ06"
      },
      "outputs": [],
      "source": [
        "num_epochs = 100\n",
        "loss_hist = [0] * num_epochs\n",
        "accuracy_hist = [0] * num_epochs\n",
        "\n",
        "for epoch in range(num_epochs):\n",
        "\n",
        "    for x_batch, y_batch in train_dl:\n",
        "        pred = model(x_batch)\n",
        "        loss = loss_fn(pred, y_batch.long())\n",
        "        loss.backward()\n",
        "        optimizer.step()\n",
        "        optimizer.zero_grad()\n",
        "\n",
        "        loss_hist[epoch] += loss.item()*y_batch.size(0)\n",
        "        is_correct = (torch.argmax(pred, dim=1) == y_batch).float()\n",
        "        accuracy_hist[epoch] += is_correct.sum()\n",
        "\n",
        "    loss_hist[epoch] /= len(train_dl.dataset)\n",
        "    accuracy_hist[epoch] /= len(train_dl.dataset)"
      ]
    },
    {
      "cell_type": "code",
      "execution_count": 15,
      "metadata": {
        "id": "N9ZG-8XDrZ06",
        "outputId": "7e233530-e13b-4769-f102-3ee50c0ba13a",
        "colab": {
          "base_uri": "https://localhost:8080/",
          "height": 448
        }
      },
      "outputs": [
        {
          "output_type": "display_data",
          "data": {
            "text/plain": [
              "<Figure size 1200x500 with 2 Axes>"
            ],
            "image/png": "[encoded data removed]"
          },
          "metadata": {}
        }
      ],
      "source": [
        "fig = plt.figure(figsize=(12, 5))\n",
        "ax = fig.add_subplot(1, 2, 1)\n",
        "ax.plot(loss_hist, lw=3)\n",
        "ax.set_title('Training loss', size=15)\n",
        "ax.set_xlabel('Epoch', size=15)\n",
        "ax.tick_params(axis='both', which='major', labelsize=15)\n",
        "\n",
        "ax = fig.add_subplot(1, 2, 2)\n",
        "ax.plot(accuracy_hist, lw=3)\n",
        "ax.set_title('Training accuracy', size=15)\n",
        "ax.set_xlabel('Epoch', size=15)\n",
        "ax.tick_params(axis='both', which='major', labelsize=15)\n",
        "plt.tight_layout()\n",
        "\n",
        "#plt.savefig('figures/12_09.pdf')\n",
        "\n",
        "plt.show()"
      ]
    },
    {
      "cell_type": "markdown",
      "metadata": {
        "id": "h0TWQkcnrZ06"
      },
      "source": [
        "### 테스트 데이터셋에서 모델 평가하기"
      ]
    },
    {
      "cell_type": "code",
      "execution_count": 16,
      "metadata": {
        "id": "I5Ttsun-rZ06",
        "outputId": "7dc1bdf3-0912-436a-e5bb-13fa5b2d79c6",
        "colab": {
          "base_uri": "https://localhost:8080/"
        }
      },
      "outputs": [
        {
          "output_type": "stream",
          "name": "stdout",
          "text": [
            "테스트 정확도: 0.9800\n"
          ]
        }
      ],
      "source": [
        "X_test_norm = (X_test - np.mean(X_train)) / np.std(X_train)\n",
        "X_test_norm = torch.from_numpy(X_test_norm).float()\n",
        "y_test = torch.from_numpy(y_test)\n",
        "pred_test = model(X_test_norm)\n",
        "\n",
        "correct = (torch.argmax(pred_test, dim=1) == y_test).float()\n",
        "accuracy = correct.mean()\n",
        "\n",
        "print(f'테스트 정확도: {accuracy:.4f}')"
      ]
    },
    {
      "cell_type": "markdown",
      "metadata": {
        "id": "DdJJhZxgrZ07"
      },
      "source": [
        "### 훈련된 모델 저장하고 로드하기"
      ]
    },
    {
      "cell_type": "code",
      "execution_count": 17,
      "metadata": {
        "id": "XzriXM_SrZ07"
      },
      "outputs": [],
      "source": [
        "path = 'iris_classifier.pt'\n",
        "torch.save(model, path)"
      ]
    },
    {
      "cell_type": "code",
      "execution_count": 18,
      "metadata": {
        "id": "ECUPACFQrZ07",
        "outputId": "326c5a69-2d86-455d-dcff-a68e0b385e93",
        "colab": {
          "base_uri": "https://localhost:8080/"
        }
      },
      "outputs": [
        {
          "output_type": "execute_result",
          "data": {
            "text/plain": [
              "Model(\n",
              "  (layer1): Linear(in_features=4, out_features=16, bias=True)\n",
              "  (layer2): Linear(in_features=16, out_features=3, bias=True)\n",
              ")"
            ]
          },
          "metadata": {},
          "execution_count": 18
        }
      ],
      "source": [
        "model_new = torch.load(path)\n",
        "model_new.eval()"
      ]
    },
    {
      "cell_type": "code",
      "execution_count": 19,
      "metadata": {
        "id": "-75mCYLBrZ07",
        "outputId": "fd37a034-80a4-4eb6-8c36-a02ce92647a6",
        "colab": {
          "base_uri": "https://localhost:8080/"
        }
      },
      "outputs": [
        {
          "output_type": "stream",
          "name": "stdout",
          "text": [
            "테스트 정확도: 0.9800\n"
          ]
        }
      ],
      "source": [
        "pred_test = model_new(X_test_norm)\n",
        "\n",
        "correct = (torch.argmax(pred_test, dim=1) == y_test).float()\n",
        "accuracy = correct.mean()\n",
        "\n",
        "print(f'테스트 정확도: {accuracy:.4f}')"
      ]
    },
    {
      "cell_type": "code",
      "execution_count": 20,
      "metadata": {
        "id": "JrXvI-ClrZ07"
      },
      "outputs": [],
      "source": [
        "path = 'iris_classifier_state.pt'\n",
        "torch.save(model.state_dict(), path)"
      ]
    },
    {
      "cell_type": "code",
      "execution_count": 21,
      "metadata": {
        "id": "FqZUwfMXrZ07",
        "outputId": "ffed4fe2-b987-4dd2-ae36-35508bc6df21",
        "colab": {
          "base_uri": "https://localhost:8080/"
        }
      },
      "outputs": [
        {
          "output_type": "execute_result",
          "data": {
            "text/plain": [
              "<All keys matched successfully>"
            ]
          },
          "metadata": {},
          "execution_count": 21
        }
      ],
      "source": [
        "model_new = Model(input_size, hidden_size, output_size)\n",
        "model_new.load_state_dict(torch.load(path))"
      ]
    },
    {
      "cell_type": "markdown",
      "metadata": {
        "id": "o82p5XNcrZ07"
      },
      "source": [
        "## 다층 신경망의 활성화 함수 선택"
      ]
    },
    {
      "cell_type": "markdown",
      "metadata": {
        "id": "vKwwi5I3rZ08"
      },
      "source": [
        "### 로지스틱 함수 요약"
      ]
    },
    {
      "cell_type": "code",
      "execution_count": 22,
      "metadata": {
        "id": "1ineVswyrZ08",
        "outputId": "a82b4b68-7c6f-4eae-b5b3-420a9a90f86e",
        "colab": {
          "base_uri": "https://localhost:8080/"
        }
      },
      "outputs": [
        {
          "output_type": "stream",
          "name": "stdout",
          "text": [
            "P(y=1|x) = 0.888\n"
          ]
        }
      ],
      "source": [
        "import numpy as np\n",
        "\n",
        "X = np.array([1, 1.4, 2.5]) ## 첫 번째 값(절편)은 1이어야 합니다.\n",
        "w = np.array([0.4, 0.3, 0.5])\n",
        "\n",
        "def net_input(X, w):\n",
        "    return np.dot(X, w)\n",
        "\n",
        "def logistic(z):\n",
        "    return 1.0 / (1.0 + np.exp(-z))\n",
        "\n",
        "def logistic_activation(X, w):\n",
        "    z = net_input(X, w)\n",
        "    return logistic(z)\n",
        "\n",
        "print(f'P(y=1|x) = {logistic_activation(X, w):.3f}')"
      ]
    },
    {
      "cell_type": "code",
      "execution_count": 23,
      "metadata": {
        "id": "6WXBW0fBrZ08",
        "outputId": "fdcbd644-0d61-4c06-b364-12a4e602224e",
        "colab": {
          "base_uri": "https://localhost:8080/"
        }
      },
      "outputs": [
        {
          "output_type": "stream",
          "name": "stdout",
          "text": [
            "최종 입력: \n",
            " [1.78 0.76 1.65]\n",
            "출력:\n",
            " [0.85569687 0.68135373 0.83889105]\n"
          ]
        }
      ],
      "source": [
        "# W : 배열 크기 = (n_output_units, n_hidden_units+1)\n",
        "# 첫 번째 열은 절편 유닛입니다.\n",
        "\n",
        "W = np.array([[1.1, 1.2, 0.8, 0.4],\n",
        "              [0.2, 0.4, 1.0, 0.2],\n",
        "              [0.6, 1.5, 1.2, 0.7]])\n",
        "\n",
        "# A : 데이터 배열 크기 = (n_hidden_units + 1, n_samples)\n",
        "# # 첫 번째 열은 1이어야 합니다.\n",
        "\n",
        "A = np.array([[1, 0.1, 0.4, 0.6]])\n",
        "Z = np.dot(W, A[0])\n",
        "y_probas = logistic(Z)\n",
        "print('최종 입력: \\n', Z)\n",
        "\n",
        "print('출력:\\n', y_probas)"
      ]
    },
    {
      "cell_type": "code",
      "execution_count": 24,
      "metadata": {
        "id": "3-c38hsSrZ0_",
        "outputId": "6e59b460-95c5-4144-dfae-de72cd4ffa73",
        "colab": {
          "base_uri": "https://localhost:8080/"
        }
      },
      "outputs": [
        {
          "output_type": "stream",
          "name": "stdout",
          "text": [
            "예측 클래스 레이블: 0\n"
          ]
        }
      ],
      "source": [
        "y_class = np.argmax(Z, axis=0)\n",
        "print('예측 클래스 레이블:', y_class)"
      ]
    },
    {
      "cell_type": "markdown",
      "metadata": {
        "id": "VU5tQOXTrZ1A"
      },
      "source": [
        "### 소프트맥스 함수를 사용한 다중 클래스 확률 예측"
      ]
    },
    {
      "cell_type": "code",
      "execution_count": 25,
      "metadata": {
        "id": "-UWXPdnqrZ1A",
        "outputId": "f07ab2ae-1796-4813-8c63-61978ad8946e",
        "colab": {
          "base_uri": "https://localhost:8080/"
        }
      },
      "outputs": [
        {
          "output_type": "stream",
          "name": "stdout",
          "text": [
            "확률:\n",
            " [0.44668973 0.16107406 0.39223621]\n"
          ]
        },
        {
          "output_type": "execute_result",
          "data": {
            "text/plain": [
              "1.0"
            ]
          },
          "metadata": {},
          "execution_count": 25
        }
      ],
      "source": [
        "def softmax(z):\n",
        "    return np.exp(z) / np.sum(np.exp(z))\n",
        "\n",
        "y_probas = softmax(Z)\n",
        "print('확률:\\n', y_probas)\n",
        "\n",
        "np.sum(y_probas)"
      ]
    },
    {
      "cell_type": "code",
      "execution_count": 26,
      "metadata": {
        "id": "Z0qKI-LurZ1A",
        "outputId": "1d1395a2-63ef-487d-ca77-853ecd38b5b5",
        "colab": {
          "base_uri": "https://localhost:8080/"
        }
      },
      "outputs": [
        {
          "output_type": "execute_result",
          "data": {
            "text/plain": [
              "tensor([0.4467, 0.1611, 0.3922], dtype=torch.float64)"
            ]
          },
          "metadata": {},
          "execution_count": 26
        }
      ],
      "source": [
        "torch.softmax(torch.from_numpy(Z), dim=0)"
      ]
    },
    {
      "cell_type": "markdown",
      "metadata": {
        "id": "IVcGiL-OrZ1A"
      },
      "source": [
        "### 하이퍼볼릭 탄젠트로 출력 범위 넓히기"
      ]
    },
    {
      "cell_type": "code",
      "execution_count": 27,
      "metadata": {
        "id": "iAyi-m9drZ1A",
        "outputId": "7dbcfc4f-41ec-44e0-ae6c-4e8ca50985c2",
        "colab": {
          "base_uri": "https://localhost:8080/",
          "height": 487
        }
      },
      "outputs": [
        {
          "output_type": "display_data",
          "data": {
            "text/plain": [
              "<Figure size 640x480 with 1 Axes>"
            ],
            "image/png": "[encoded data removed]"
          },
          "metadata": {}
        }
      ],
      "source": [
        "import matplotlib.pyplot as plt\n",
        "%matplotlib inline\n",
        "\n",
        "def tanh(z):\n",
        "    e_p = np.exp(z)\n",
        "    e_m = np.exp(-z)\n",
        "    return (e_p - e_m) / (e_p + e_m)\n",
        "\n",
        "z = np.arange(-5, 5, 0.005)\n",
        "log_act = logistic(z)\n",
        "tanh_act = tanh(z)\n",
        "plt.ylim([-1.5, 1.5])\n",
        "plt.xlabel('Net input $z$')\n",
        "plt.ylabel('Activation $\\phi(z)$')\n",
        "plt.axhline(1, color='black', linestyle=':')\n",
        "plt.axhline(0.5, color='black', linestyle=':')\n",
        "plt.axhline(0, color='black', linestyle=':')\n",
        "plt.axhline(-0.5, color='black', linestyle=':')\n",
        "plt.axhline(-1, color='black', linestyle=':')\n",
        "plt.plot(z, tanh_act,\n",
        "    linewidth=3, linestyle='--',\n",
        "    label='Tanh')\n",
        "plt.plot(z, log_act,\n",
        "    linewidth=3,\n",
        "    label='Logistic')\n",
        "plt.legend(loc='lower right')\n",
        "plt.tight_layout()\n",
        "\n",
        "#plt.savefig('figures/12_10.pdf')\n",
        "plt.show()"
      ]
    },
    {
      "cell_type": "code",
      "execution_count": 28,
      "metadata": {
        "id": "aAB5yiMerZ1A",
        "outputId": "b19696fd-eb10-4491-8536-dde8ee2773ab",
        "colab": {
          "base_uri": "https://localhost:8080/"
        }
      },
      "outputs": [
        {
          "output_type": "execute_result",
          "data": {
            "text/plain": [
              "array([-0.9999092 , -0.99990829, -0.99990737, ...,  0.99990644,\n",
              "        0.99990737,  0.99990829])"
            ]
          },
          "metadata": {},
          "execution_count": 28
        }
      ],
      "source": [
        "np.tanh(z)"
      ]
    },
    {
      "cell_type": "code",
      "execution_count": 29,
      "metadata": {
        "id": "3S9MZ2mBrZ1B",
        "outputId": "63c682e4-c2f7-4e96-d7fd-0d84246e9f89",
        "colab": {
          "base_uri": "https://localhost:8080/"
        }
      },
      "outputs": [
        {
          "output_type": "execute_result",
          "data": {
            "text/plain": [
              "tensor([-0.9999, -0.9999, -0.9999,  ...,  0.9999,  0.9999,  0.9999],\n",
              "       dtype=torch.float64)"
            ]
          },
          "metadata": {},
          "execution_count": 29
        }
      ],
      "source": [
        "torch.tanh(torch.from_numpy(z))"
      ]
    },
    {
      "cell_type": "code",
      "execution_count": 30,
      "metadata": {
        "id": "__F0-bHgrZ1B",
        "outputId": "5af25107-ba57-4756-b97e-7ac4b8739fd8",
        "colab": {
          "base_uri": "https://localhost:8080/"
        }
      },
      "outputs": [
        {
          "output_type": "execute_result",
          "data": {
            "text/plain": [
              "array([0.00669285, 0.00672617, 0.00675966, ..., 0.99320669, 0.99324034,\n",
              "       0.99327383])"
            ]
          },
          "metadata": {},
          "execution_count": 30
        }
      ],
      "source": [
        "from scipy.special import expit\n",
        "\n",
        "expit(z)"
      ]
    },
    {
      "cell_type": "code",
      "execution_count": 31,
      "metadata": {
        "id": "LB-bgVGPrZ1B",
        "outputId": "dd646376-af03-4e57-f7f9-53540f9accdb",
        "colab": {
          "base_uri": "https://localhost:8080/"
        }
      },
      "outputs": [
        {
          "output_type": "execute_result",
          "data": {
            "text/plain": [
              "tensor([0.0067, 0.0067, 0.0068,  ..., 0.9932, 0.9932, 0.9933],\n",
              "       dtype=torch.float64)"
            ]
          },
          "metadata": {},
          "execution_count": 31
        }
      ],
      "source": [
        "torch.sigmoid(torch.from_numpy(z))"
      ]
    },
    {
      "cell_type": "markdown",
      "metadata": {
        "id": "9O8n5pjBrZ1B"
      },
      "source": [
        "### 렐루 활성화 함수"
      ]
    },
    {
      "cell_type": "code",
      "execution_count": 32,
      "metadata": {
        "id": "zEQ2D4ySrZ1B",
        "outputId": "d8af6f9f-9b80-4f92-d1f9-eb9c38857500",
        "colab": {
          "base_uri": "https://localhost:8080/"
        }
      },
      "outputs": [
        {
          "output_type": "execute_result",
          "data": {
            "text/plain": [
              "tensor([0.0000, 0.0000, 0.0000,  ..., 4.9850, 4.9900, 4.9950],\n",
              "       dtype=torch.float64)"
            ]
          },
          "metadata": {},
          "execution_count": 32
        }
      ],
      "source": [
        "torch.relu(torch.from_numpy(z))"
      ]
    },
    {
      "cell_type": "code",
      "execution_count": 33,
      "metadata": {
        "id": "is-f1f1crZ1B",
        "outputId": "2f4baf76-4f63-48a6-f8d1-57c2504e1eef",
        "colab": {
          "base_uri": "https://localhost:8080/",
          "height": 609
        }
      },
      "outputs": [
        {
          "output_type": "execute_result",
          "data": {
            "text/html": [
              "<img src=\"https://raw.githubusercontent.com/rickiepark/ml-with-pytorch/main/ch12/figures/12_11.png\" width=\"500\"/>"
            ],
            "text/plain": [
              "<IPython.core.display.Image object>"
            ]
          },
          "metadata": {},
          "execution_count": 33
        }
      ],
      "source": [
        "IPythonImage(url='https://raw.githubusercontent.com/rickiepark/ml-with-pytorch/main/ch12/figures/12_11.png', width=500)"
      ]
    },
    {
      "cell_type": "markdown",
      "metadata": {
        "id": "C85BWpiIrZ1B"
      },
      "source": [
        "## 요약"
      ]
    }
  ],
  "metadata": {
    "kernelspec": {
      "display_name": "Python 3",
      "name": "python3"
    },
    "language_info": {
      "codemirror_mode": {
        "name": "ipython",
        "version": 3
      },
      "file_extension": ".py",
      "mimetype": "text/x-python",
      "name": "python",
      "nbconvert_exporter": "python",
      "pygments_lexer": "ipython3",
      "version": "3.8.2"
    },
    "toc-showmarkdowntxt": false,
    "toc-showtags": false,
    "colab": {
      "provenance": [],
      "gpuType": "A100"
    },
    "accelerator": "GPU"
  },
  "nbformat": 4,
  "nbformat_minor": 0
}